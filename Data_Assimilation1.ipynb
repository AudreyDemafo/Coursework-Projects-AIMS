{
 "cells": [
  {
   "cell_type": "code",
   "execution_count": 1,
   "metadata": {},
   "outputs": [],
   "source": [
    "# ======= Python Part =========\n",
    "# ============================="
   ]
  },
  {
   "cell_type": "markdown",
   "metadata": {},
   "source": [
    "# Consider the general nonlinear process model\n",
    "\n",
    "\\begin{equation}\n",
    "X_{i+1} = \\alpha X_i(1-X_i), \\quad i = 0,1,2\n",
    "\\end{equation}\n",
    "# and the data model\n",
    "\\begin{equation}\n",
    "Y_i = X_i + \\epsilon_i\n",
    "\\end{equation}\n",
    "where $\\epsilon_i \\sim {\\cal{N}}(0,\\tau)$"
   ]
  },
  {
   "cell_type": "code",
   "execution_count": 62,
   "metadata": {},
   "outputs": [],
   "source": [
    "import numpy as np\n",
    "import matplotlib.pyplot as plt\n",
    "import seaborn as sns\n",
    "from scipy.stats import norm\n",
    "import warnings\n",
    "warnings.filterwarnings(\"ignore\")"
   ]
  },
  {
   "cell_type": "markdown",
   "metadata": {},
   "source": [
    "(a). Let us create histograms for the samples of Y1 and Y2 and discuss if they appear to be\n",
    "normally distributed."
   ]
  },
  {
   "cell_type": "code",
   "execution_count": 11,
   "metadata": {},
   "outputs": [
    {
     "data": {
      "text/plain": [
       "array([0.2      , 0.192    , 0.1861632])"
      ]
     },
     "execution_count": 11,
     "metadata": {},
     "output_type": "execute_result"
    }
   ],
   "source": [
    "def process(x0,N): \n",
    "    x=np.zeros(N)\n",
    "    x[0]=x0\n",
    "    for i in range(N-1):\n",
    "        x[i+1]=1.2*x[i]*(1-x[i])\n",
    "    return x\n",
    "x0=0.2\n",
    "N=3\n",
    "tau=0.002\n",
    "X=process(x0,3)\n",
    "X"
   ]
  },
  {
   "cell_type": "code",
   "execution_count": 48,
   "metadata": {},
   "outputs": [],
   "source": [
    "e1=np.random.normal(0,tau,2000) # e_i stand for epsilon\n",
    "e2=np.random.normal(0,tau,2000)\n",
    "Y1=np.zeros(2000)\n",
    "Y2=np.zeros(2000)\n",
    "for i in range(2000):\n",
    "    Y1[i]=X[1]+e1[i]\n",
    "    Y2[i]=X[2]+e2[i]"
   ]
  },
  {
   "cell_type": "code",
   "execution_count": 95,
   "metadata": {},
   "outputs": [
    {
     "data": {
      "image/png": "[encoded data removed]",
      "text/plain": [
       "<Figure size 432x288 with 1 Axes>"
      ]
     },
     "metadata": {
      "needs_background": "light"
     },
     "output_type": "display_data"
    }
   ],
   "source": [
    "# plot(Y1);\n",
    "sns.distplot(Y1)\n",
    "plt.show()"
   ]
  },
  {
   "cell_type": "code",
   "execution_count": 96,
   "metadata": {},
   "outputs": [
    {
     "data": {
      "image/png": "[encoded data removed]",
      "text/plain": [
       "<Figure size 432x288 with 1 Axes>"
      ]
     },
     "metadata": {
      "needs_background": "light"
     },
     "output_type": "display_data"
    }
   ],
   "source": [
    "# plot(Y2);\n",
    "sns.distplot(Y2)\n",
    "plt.show()"
   ]
  },
  {
   "cell_type": "markdown",
   "metadata": {},
   "source": [
    "(b). Mean and covariance"
   ]
  },
  {
   "cell_type": "code",
   "execution_count": 31,
   "metadata": {},
   "outputs": [],
   "source": [
    "# For the mean of Y1\n",
    "mean1 = Y1.mean()"
   ]
  },
  {
   "cell_type": "code",
   "execution_count": 32,
   "metadata": {},
   "outputs": [],
   "source": [
    "# For the mean of Y2\n",
    "mean2 = Y2.mean()"
   ]
  },
  {
   "cell_type": "code",
   "execution_count": 33,
   "metadata": {},
   "outputs": [
    {
     "data": {
      "text/plain": [
       "array([[ 3.97368271e-06, -1.04390335e-08],\n",
       "       [-1.04390335e-08,  4.01154503e-06]])"
      ]
     },
     "execution_count": 33,
     "metadata": {},
     "output_type": "execute_result"
    }
   ],
   "source": [
    "# The covariance \n",
    "Cov=np.cov(Y1,Y2)\n",
    "Cov"
   ]
  },
  {
   "cell_type": "code",
   "execution_count": 81,
   "metadata": {},
   "outputs": [],
   "source": [
    "# Putting the means in a vector\n",
    "M  = np.array([mean1,mean2])"
   ]
  },
  {
   "cell_type": "markdown",
   "metadata": {},
   "source": [
    "(c). Assume that Y is normally distributed with the mean and covariance you found in 2b.\n",
    "Identify the cost function J (x0; y1, y2) that the maximum likelihood estimate optimizes,\n",
    "and evaluate it using the given value of $x_0$."
   ]
  },
  {
   "cell_type": "code",
   "execution_count": 87,
   "metadata": {},
   "outputs": [
    {
     "name": "stdout",
     "output_type": "stream",
     "text": [
      "The coast function is J =  7.292631934570365\n"
     ]
    }
   ],
   "source": [
    "e1=np.random.normal(0,tau)\n",
    "e2=np.random.normal(0,tau)\n",
    "y1=X[1]+e1\n",
    "y2=X[1]+e2\n",
    "Y=np.array([y1,y2])\n",
    "J=(Y-M)@np.linalg.inv(Cov)@(Y-M).T\n",
    "print('The coast function is J = ', J)"
   ]
  },
  {
   "cell_type": "markdown",
   "metadata": {},
   "source": [
    "(d). Use one of the 2000 samples and hold data y1, y2 fixed. Given these data vary $x_0$ between 0 and 1 and evaluate the cost function J ($x_0$; $y_1$, $y_2$). Plot J as a function of $x_0$ and choose enough values of $x_0$ so that you get a smooth looking curve."
   ]
  },
  {
   "cell_type": "code",
   "execution_count": 99,
   "metadata": {},
   "outputs": [
    {
     "data": {
      "text/plain": [
       "<matplotlib.legend.Legend at 0x7f3eedd4ef10>"
      ]
     },
     "execution_count": 99,
     "metadata": {},
     "output_type": "execute_result"
    },
    {
     "data": {
      "image/png": "[encoded data removed]",
      "text/plain": [
       "<Figure size 432x288 with 1 Axes>"
      ]
     },
     "metadata": {
      "needs_background": "light"
     },
     "output_type": "display_data"
    }
   ],
   "source": [
    "x0=np.linspace(0,1,2000)\n",
    "J=np.zeros(len(x0))\n",
    "y1=X[1]+e1\n",
    "y2=X[2]+e2\n",
    "Y=np.array([y1,y2])\n",
    "for i in range(len(x0)):\n",
    "    x1=process(x0[i],3)[1]\n",
    "    x2=process(x0[i],3)[2]\n",
    "    x=np.array([x1,x2])\n",
    "    J[i]=(Y-x)@np.linalg.inv(Cov)@(Y-x).T\n",
    "plt.plot(x0,J,'o');\n",
    "plt.legend(['The curve of the coast function'])"
   ]
  },
  {
   "cell_type": "code",
   "execution_count": 92,
   "metadata": {},
   "outputs": [
    {
     "name": "stdout",
     "output_type": "stream",
     "text": [
      "The Minumum occurs at x1 = 0.19809904952476237\n"
     ]
    }
   ],
   "source": [
    "x1_min=x0[np.argmin(J)]\n",
    "print('The Minumum occurs at x1 =',x1_min)"
   ]
  },
  {
   "cell_type": "code",
   "execution_count": 76,
   "metadata": {},
   "outputs": [
    {
     "name": "stdout",
     "output_type": "stream",
     "text": [
      "[0.78708223 0.21291777]\n"
     ]
    }
   ],
   "source": [
    "p=np.array([1.2,-1.2,x1_min])\n",
    "print(np.roots(p))"
   ]
  },
  {
   "cell_type": "markdown",
   "metadata": {},
   "source": [
    "There are two possible values for the re-analysis estimate , with 0.21291777 the most\n",
    "plausible choice."
   ]
  },
  {
   "cell_type": "code",
   "execution_count": null,
   "metadata": {},
   "outputs": [],
   "source": []
  }
 ],
 "metadata": {
  "kernelspec": {
   "display_name": "Python3 base",
   "language": "python",
   "name": "myenv3"
  },
  "language_info": {
   "codemirror_mode": {
    "name": "ipython",
    "version": 3
   },
   "file_extension": ".py",
   "mimetype": "text/x-python",
   "name": "python",
   "nbconvert_exporter": "python",
   "pygments_lexer": "ipython3",
   "version": "3.8.10"
  }
 },
 "nbformat": 4,
 "nbformat_minor": 2
}
