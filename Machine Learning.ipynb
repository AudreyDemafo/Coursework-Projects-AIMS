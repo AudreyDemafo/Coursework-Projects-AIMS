{
 "cells": [
  {
   "cell_type": "code",
   "execution_count": 2,
   "metadata": {},
   "outputs": [],
   "source": [
    "import pandas as pd\n",
    "#import matplotlib.pyplot as plt\n",
    "import seaborn as sns\n",
    "from pylab import*\n",
    "from sklearn.model_selection import train_test_split, cross_val_score, GridSearchCV\n",
    "from sklearn.tree import DecisionTreeRegressor, export_graphviz, plot_tree\n",
    "from sklearn.linear_model import LinearRegression\n",
    "from sklearn.ensemble import RandomForestRegressor\n",
    "from sklearn.metrics import mean_squared_error\n",
    "from sklearn.datasets import load_boston"
   ]
  },
  {
   "cell_type": "code",
   "execution_count": 77,
   "metadata": {},
   "outputs": [
    {
     "name": "stdout",
     "output_type": "stream",
     "text": [
      "Python 3.8.8\n"
     ]
    }
   ],
   "source": [
    "!python --version"
   ]
  },
  {
   "cell_type": "code",
   "execution_count": 4,
   "metadata": {},
   "outputs": [
    {
     "name": "stdout",
     "output_type": "stream",
     "text": [
      ".. _boston_dataset:\n",
      "\n",
      "Boston house prices dataset\n",
      "---------------------------\n",
      "\n",
      "**Data Set Characteristics:**  \n",
      "\n",
      "    :Number of Instances: 506 \n",
      "\n",
      "    :Number of Attributes: 13 numeric/categorical predictive. Median Value (attribute 14) is usually the target.\n",
      "\n",
      "    :Attribute Information (in order):\n",
      "        - CRIM     per capita crime rate by town\n",
      "        - ZN       proportion of residential land zoned for lots over 25,000 sq.ft.\n",
      "        - INDUS    proportion of non-retail business acres per town\n",
      "        - CHAS     Charles River dummy variable (= 1 if tract bounds river; 0 otherwise)\n",
      "        - NOX      nitric oxides concentration (parts per 10 million)\n",
      "        - RM       average number of rooms per dwelling\n",
      "        - AGE      proportion of owner-occupied units built prior to 1940\n",
      "        - DIS      weighted distances to five Boston employment centres\n",
      "        - RAD      index of accessibility to radial highways\n",
      "        - TAX      full-value property-tax rate per $10,000\n",
      "        - PTRATIO  pupil-teacher ratio by town\n",
      "        - B        1000(Bk - 0.63)^2 where Bk is the proportion of blacks by town\n",
      "        - LSTAT    % lower status of the population\n",
      "        - MEDV     Median value of owner-occupied homes in $1000's\n",
      "\n",
      "    :Missing Attribute Values: None\n",
      "\n",
      "    :Creator: Harrison, D. and Rubinfeld, D.L.\n",
      "\n",
      "This is a copy of UCI ML housing dataset.\n",
      "https://archive.ics.uci.edu/ml/machine-learning-databases/housing/\n",
      "\n",
      "\n",
      "This dataset was taken from the StatLib library which is maintained at Carnegie Mellon University.\n",
      "\n",
      "The Boston house-price data of Harrison, D. and Rubinfeld, D.L. 'Hedonic\n",
      "prices and the demand for clean air', J. Environ. Economics & Management,\n",
      "vol.5, 81-102, 1978.   Used in Belsley, Kuh & Welsch, 'Regression diagnostics\n",
      "...', Wiley, 1980.   N.B. Various transformations are used in the table on\n",
      "pages 244-261 of the latter.\n",
      "\n",
      "The Boston house-price data has been used in many machine learning papers that address regression\n",
      "problems.   \n",
      "     \n",
      ".. topic:: References\n",
      "\n",
      "   - Belsley, Kuh & Welsch, 'Regression diagnostics: Identifying Influential Data and Sources of Collinearity', Wiley, 1980. 244-261.\n",
      "   - Quinlan,R. (1993). Combining Instance-Based and Model-Based Learning. In Proceedings on the Tenth International Conference of Machine Learning, 236-243, University of Massachusetts, Amherst. Morgan Kaufmann.\n",
      "\n"
     ]
    }
   ],
   "source": [
    "data = load_boston()\n",
    "print(data['DESCR'])"
   ]
  },
  {
   "cell_type": "code",
   "execution_count": 5,
   "metadata": {},
   "outputs": [
    {
     "data": {
      "text/html": [
       "<div>\n",
       "<style scoped>\n",
       "    .dataframe tbody tr th:only-of-type {\n",
       "        vertical-align: middle;\n",
       "    }\n",
       "\n",
       "    .dataframe tbody tr th {\n",
       "        vertical-align: top;\n",
       "    }\n",
       "\n",
       "    .dataframe thead th {\n",
       "        text-align: right;\n",
       "    }\n",
       "</style>\n",
       "<table border=\"1\" class=\"dataframe\">\n",
       "  <thead>\n",
       "    <tr style=\"text-align: right;\">\n",
       "      <th></th>\n",
       "      <th>CRIM</th>\n",
       "      <th>ZN</th>\n",
       "      <th>INDUS</th>\n",
       "      <th>CHAS</th>\n",
       "      <th>NOX</th>\n",
       "      <th>RM</th>\n",
       "      <th>AGE</th>\n",
       "      <th>DIS</th>\n",
       "      <th>RAD</th>\n",
       "      <th>TAX</th>\n",
       "      <th>PTRATIO</th>\n",
       "      <th>B</th>\n",
       "      <th>LSTAT</th>\n",
       "    </tr>\n",
       "  </thead>\n",
       "  <tbody>\n",
       "    <tr>\n",
       "      <th>0</th>\n",
       "      <td>0.00632</td>\n",
       "      <td>18.0</td>\n",
       "      <td>2.31</td>\n",
       "      <td>0.0</td>\n",
       "      <td>0.538</td>\n",
       "      <td>6.575</td>\n",
       "      <td>65.2</td>\n",
       "      <td>4.0900</td>\n",
       "      <td>1.0</td>\n",
       "      <td>296.0</td>\n",
       "      <td>15.3</td>\n",
       "      <td>396.90</td>\n",
       "      <td>4.98</td>\n",
       "    </tr>\n",
       "    <tr>\n",
       "      <th>1</th>\n",
       "      <td>0.02731</td>\n",
       "      <td>0.0</td>\n",
       "      <td>7.07</td>\n",
       "      <td>0.0</td>\n",
       "      <td>0.469</td>\n",
       "      <td>6.421</td>\n",
       "      <td>78.9</td>\n",
       "      <td>4.9671</td>\n",
       "      <td>2.0</td>\n",
       "      <td>242.0</td>\n",
       "      <td>17.8</td>\n",
       "      <td>396.90</td>\n",
       "      <td>9.14</td>\n",
       "    </tr>\n",
       "    <tr>\n",
       "      <th>2</th>\n",
       "      <td>0.02729</td>\n",
       "      <td>0.0</td>\n",
       "      <td>7.07</td>\n",
       "      <td>0.0</td>\n",
       "      <td>0.469</td>\n",
       "      <td>7.185</td>\n",
       "      <td>61.1</td>\n",
       "      <td>4.9671</td>\n",
       "      <td>2.0</td>\n",
       "      <td>242.0</td>\n",
       "      <td>17.8</td>\n",
       "      <td>392.83</td>\n",
       "      <td>4.03</td>\n",
       "    </tr>\n",
       "    <tr>\n",
       "      <th>3</th>\n",
       "      <td>0.03237</td>\n",
       "      <td>0.0</td>\n",
       "      <td>2.18</td>\n",
       "      <td>0.0</td>\n",
       "      <td>0.458</td>\n",
       "      <td>6.998</td>\n",
       "      <td>45.8</td>\n",
       "      <td>6.0622</td>\n",
       "      <td>3.0</td>\n",
       "      <td>222.0</td>\n",
       "      <td>18.7</td>\n",
       "      <td>394.63</td>\n",
       "      <td>2.94</td>\n",
       "    </tr>\n",
       "    <tr>\n",
       "      <th>4</th>\n",
       "      <td>0.06905</td>\n",
       "      <td>0.0</td>\n",
       "      <td>2.18</td>\n",
       "      <td>0.0</td>\n",
       "      <td>0.458</td>\n",
       "      <td>7.147</td>\n",
       "      <td>54.2</td>\n",
       "      <td>6.0622</td>\n",
       "      <td>3.0</td>\n",
       "      <td>222.0</td>\n",
       "      <td>18.7</td>\n",
       "      <td>396.90</td>\n",
       "      <td>5.33</td>\n",
       "    </tr>\n",
       "    <tr>\n",
       "      <th>...</th>\n",
       "      <td>...</td>\n",
       "      <td>...</td>\n",
       "      <td>...</td>\n",
       "      <td>...</td>\n",
       "      <td>...</td>\n",
       "      <td>...</td>\n",
       "      <td>...</td>\n",
       "      <td>...</td>\n",
       "      <td>...</td>\n",
       "      <td>...</td>\n",
       "      <td>...</td>\n",
       "      <td>...</td>\n",
       "      <td>...</td>\n",
       "    </tr>\n",
       "    <tr>\n",
       "      <th>501</th>\n",
       "      <td>0.06263</td>\n",
       "      <td>0.0</td>\n",
       "      <td>11.93</td>\n",
       "      <td>0.0</td>\n",
       "      <td>0.573</td>\n",
       "      <td>6.593</td>\n",
       "      <td>69.1</td>\n",
       "      <td>2.4786</td>\n",
       "      <td>1.0</td>\n",
       "      <td>273.0</td>\n",
       "      <td>21.0</td>\n",
       "      <td>391.99</td>\n",
       "      <td>9.67</td>\n",
       "    </tr>\n",
       "    <tr>\n",
       "      <th>502</th>\n",
       "      <td>0.04527</td>\n",
       "      <td>0.0</td>\n",
       "      <td>11.93</td>\n",
       "      <td>0.0</td>\n",
       "      <td>0.573</td>\n",
       "      <td>6.120</td>\n",
       "      <td>76.7</td>\n",
       "      <td>2.2875</td>\n",
       "      <td>1.0</td>\n",
       "      <td>273.0</td>\n",
       "      <td>21.0</td>\n",
       "      <td>396.90</td>\n",
       "      <td>9.08</td>\n",
       "    </tr>\n",
       "    <tr>\n",
       "      <th>503</th>\n",
       "      <td>0.06076</td>\n",
       "      <td>0.0</td>\n",
       "      <td>11.93</td>\n",
       "      <td>0.0</td>\n",
       "      <td>0.573</td>\n",
       "      <td>6.976</td>\n",
       "      <td>91.0</td>\n",
       "      <td>2.1675</td>\n",
       "      <td>1.0</td>\n",
       "      <td>273.0</td>\n",
       "      <td>21.0</td>\n",
       "      <td>396.90</td>\n",
       "      <td>5.64</td>\n",
       "    </tr>\n",
       "    <tr>\n",
       "      <th>504</th>\n",
       "      <td>0.10959</td>\n",
       "      <td>0.0</td>\n",
       "      <td>11.93</td>\n",
       "      <td>0.0</td>\n",
       "      <td>0.573</td>\n",
       "      <td>6.794</td>\n",
       "      <td>89.3</td>\n",
       "      <td>2.3889</td>\n",
       "      <td>1.0</td>\n",
       "      <td>273.0</td>\n",
       "      <td>21.0</td>\n",
       "      <td>393.45</td>\n",
       "      <td>6.48</td>\n",
       "    </tr>\n",
       "    <tr>\n",
       "      <th>505</th>\n",
       "      <td>0.04741</td>\n",
       "      <td>0.0</td>\n",
       "      <td>11.93</td>\n",
       "      <td>0.0</td>\n",
       "      <td>0.573</td>\n",
       "      <td>6.030</td>\n",
       "      <td>80.8</td>\n",
       "      <td>2.5050</td>\n",
       "      <td>1.0</td>\n",
       "      <td>273.0</td>\n",
       "      <td>21.0</td>\n",
       "      <td>396.90</td>\n",
       "      <td>7.88</td>\n",
       "    </tr>\n",
       "  </tbody>\n",
       "</table>\n",
       "<p>506 rows × 13 columns</p>\n",
       "</div>"
      ],
      "text/plain": [
       "        CRIM    ZN  INDUS  CHAS    NOX     RM   AGE     DIS  RAD    TAX  \\\n",
       "0    0.00632  18.0   2.31   0.0  0.538  6.575  65.2  4.0900  1.0  296.0   \n",
       "1    0.02731   0.0   7.07   0.0  0.469  6.421  78.9  4.9671  2.0  242.0   \n",
       "2    0.02729   0.0   7.07   0.0  0.469  7.185  61.1  4.9671  2.0  242.0   \n",
       "3    0.03237   0.0   2.18   0.0  0.458  6.998  45.8  6.0622  3.0  222.0   \n",
       "4    0.06905   0.0   2.18   0.0  0.458  7.147  54.2  6.0622  3.0  222.0   \n",
       "..       ...   ...    ...   ...    ...    ...   ...     ...  ...    ...   \n",
       "501  0.06263   0.0  11.93   0.0  0.573  6.593  69.1  2.4786  1.0  273.0   \n",
       "502  0.04527   0.0  11.93   0.0  0.573  6.120  76.7  2.2875  1.0  273.0   \n",
       "503  0.06076   0.0  11.93   0.0  0.573  6.976  91.0  2.1675  1.0  273.0   \n",
       "504  0.10959   0.0  11.93   0.0  0.573  6.794  89.3  2.3889  1.0  273.0   \n",
       "505  0.04741   0.0  11.93   0.0  0.573  6.030  80.8  2.5050  1.0  273.0   \n",
       "\n",
       "     PTRATIO       B  LSTAT  \n",
       "0       15.3  396.90   4.98  \n",
       "1       17.8  396.90   9.14  \n",
       "2       17.8  392.83   4.03  \n",
       "3       18.7  394.63   2.94  \n",
       "4       18.7  396.90   5.33  \n",
       "..       ...     ...    ...  \n",
       "501     21.0  391.99   9.67  \n",
       "502     21.0  396.90   9.08  \n",
       "503     21.0  396.90   5.64  \n",
       "504     21.0  393.45   6.48  \n",
       "505     21.0  396.90   7.88  \n",
       "\n",
       "[506 rows x 13 columns]"
      ]
     },
     "execution_count": 5,
     "metadata": {},
     "output_type": "execute_result"
    }
   ],
   "source": [
    "X = pd.DataFrame(data['data'], columns = data['feature_names'])\n",
    "X\n",
    "#X.head()\n",
    "#X.shape"
   ]
  },
  {
   "cell_type": "markdown",
   "metadata": {},
   "source": [
    "### Question 1: What type of Machine Learning Problem is this?\n",
    "This is a supervised machine learning"
   ]
  },
  {
   "cell_type": "code",
   "execution_count": 6,
   "metadata": {},
   "outputs": [
    {
     "data": {
      "text/plain": [
       "506"
      ]
     },
     "execution_count": 6,
     "metadata": {},
     "output_type": "execute_result"
    }
   ],
   "source": [
    "y = pd.DataFrame(data['target'], columns=['MEDV'])\n",
    "y.size"
   ]
  },
  {
   "cell_type": "code",
   "execution_count": 7,
   "metadata": {},
   "outputs": [
    {
     "data": {
      "text/plain": [
       "array([[5.75290e-01, 0.00000e+00, 6.20000e+00, ..., 1.74000e+01,\n",
       "        3.85910e+02, 2.47000e+00],\n",
       "       [3.29820e-01, 0.00000e+00, 2.18900e+01, ..., 2.12000e+01,\n",
       "        3.88690e+02, 1.50300e+01],\n",
       "       [1.15172e+00, 0.00000e+00, 8.14000e+00, ..., 2.10000e+01,\n",
       "        3.58770e+02, 1.83500e+01],\n",
       "       ...,\n",
       "       [1.50980e-01, 0.00000e+00, 1.00100e+01, ..., 1.78000e+01,\n",
       "        3.94510e+02, 1.03000e+01],\n",
       "       [2.29270e-01, 0.00000e+00, 6.91000e+00, ..., 1.79000e+01,\n",
       "        3.92740e+02, 1.88000e+01],\n",
       "       [1.39140e-01, 0.00000e+00, 4.05000e+00, ..., 1.66000e+01,\n",
       "        3.96900e+02, 1.46900e+01]])"
      ]
     },
     "execution_count": 7,
     "metadata": {},
     "output_type": "execute_result"
    }
   ],
   "source": [
    "# Process of splitting the data\n",
    "\n",
    "x = X.iloc[:,:].values\n",
    "Y=y[['MEDV']].values\n",
    "x_train,x_test,Y_train,Y_test = train_test_split(x,Y,test_size=0.5,random_state=0)\n",
    "x_train"
   ]
  },
  {
   "cell_type": "markdown",
   "metadata": {},
   "source": [
    "### Question 3: How many houses are in the training and test sets? And how many features are there? Print them to the screen."
   ]
  },
  {
   "cell_type": "code",
   "execution_count": 8,
   "metadata": {},
   "outputs": [
    {
     "name": "stdout",
     "output_type": "stream",
     "text": [
      "There are 253 houses in the training set and 253 in the test set\n"
     ]
    }
   ],
   "source": [
    "len(x_train), len(x_test)\n",
    "print(\"There are\",len(x_train), \"houses in the training set and\", len(x_test), \"in the test set\")"
   ]
  },
  {
   "cell_type": "markdown",
   "metadata": {},
   "source": [
    "### Question 4: Using DecisionTreeRegressor, Fit a Decision Tree to the training data; with maximum tree depth set to 3. Make sure to set a random seed."
   ]
  },
  {
   "cell_type": "code",
   "execution_count": 9,
   "metadata": {},
   "outputs": [],
   "source": [
    "# Create the regressor object\n",
    "regressor = DecisionTreeRegressor(max_depth=3, random_state = 1)"
   ]
  },
  {
   "cell_type": "code",
   "execution_count": 10,
   "metadata": {},
   "outputs": [
    {
     "data": {
      "text/plain": [
       "DecisionTreeRegressor(max_depth=3, random_state=1)"
      ]
     },
     "execution_count": 10,
     "metadata": {},
     "output_type": "execute_result"
    }
   ],
   "source": [
    "#Fit the regressor with x and Y\n",
    "regressor.fit(x_train,Y_train)"
   ]
  },
  {
   "cell_type": "code",
   "execution_count": 11,
   "metadata": {},
   "outputs": [
    {
     "data": {
      "text/plain": [
       "array([28.00769231, 20.78378378, 20.78378378, 11.67222222, 20.78378378,\n",
       "       20.78378378, 20.78378378, 20.78378378, 20.78378378, 20.78378378,\n",
       "       11.67222222, 11.67222222, 16.83409091, 11.67222222, 48.63636364,\n",
       "       28.00769231, 20.78378378, 28.00769231, 28.00769231, 20.78378378,\n",
       "       28.00769231, 20.78378378, 20.78378378, 28.00769231, 20.78378378,\n",
       "       20.78378378, 20.78378378, 11.67222222, 41.25714286, 16.83409091,\n",
       "       16.83409091, 20.78378378, 20.78378378, 20.78378378, 20.78378378,\n",
       "       20.78378378, 11.67222222, 20.78378378, 16.83409091, 16.83409091,\n",
       "       20.78378378, 20.78378378, 20.78378378, 16.83409091, 26.01538462,\n",
       "       20.78378378, 16.83409091, 11.67222222, 11.67222222, 26.01538462,\n",
       "       11.67222222, 16.83409091, 20.78378378, 41.25714286, 16.83409091,\n",
       "       16.83409091, 20.78378378, 20.78378378, 20.78378378, 16.83409091,\n",
       "       28.00769231, 20.78378378, 28.00769231, 28.00769231, 20.78378378,\n",
       "       28.00769231, 16.83409091, 16.83409091, 11.67222222, 20.78378378,\n",
       "       20.78378378, 20.78378378, 28.00769231, 28.00769231, 28.00769231,\n",
       "       11.67222222, 41.25714286, 20.78378378, 20.78378378, 20.78378378,\n",
       "       28.00769231, 20.78378378, 20.78378378, 41.25714286, 41.25714286,\n",
       "       28.00769231, 20.78378378, 16.83409091, 28.00769231, 16.83409091,\n",
       "       20.78378378, 16.83409091, 28.00769231, 28.00769231, 20.78378378,\n",
       "       20.78378378, 11.67222222, 28.00769231, 16.83409091, 20.78378378,\n",
       "       20.78378378, 20.78378378, 26.01538462, 20.78378378, 26.01538462,\n",
       "       20.78378378, 11.67222222, 20.78378378, 20.78378378, 20.78378378,\n",
       "       28.00769231, 11.67222222, 16.83409091, 16.83409091, 16.83409091,\n",
       "       20.78378378, 11.67222222, 20.78378378, 11.67222222, 48.63636364,\n",
       "       28.00769231, 11.67222222, 16.83409091, 20.78378378, 20.78378378,\n",
       "       16.83409091, 28.00769231, 16.83409091, 20.78378378, 28.00769231,\n",
       "       11.67222222, 11.67222222, 11.67222222, 20.78378378, 11.67222222,\n",
       "       28.00769231, 20.78378378, 11.67222222, 28.00769231, 11.67222222,\n",
       "       11.67222222, 20.78378378, 28.00769231, 28.00769231, 28.00769231,\n",
       "       20.78378378, 28.00769231, 28.00769231, 16.83409091, 11.67222222,\n",
       "       28.00769231, 28.00769231, 11.67222222, 28.00769231, 16.83409091,\n",
       "       28.00769231, 16.83409091, 16.83409091, 20.78378378, 16.83409091,\n",
       "       11.67222222, 20.78378378, 28.00769231, 28.00769231, 26.01538462,\n",
       "       20.78378378, 28.00769231, 28.00769231, 28.00769231, 11.67222222,\n",
       "       28.00769231, 16.83409091, 20.78378378, 28.00769231, 20.78378378,\n",
       "       11.67222222, 16.83409091, 16.83409091, 26.01538462, 20.78378378,\n",
       "       16.83409091, 20.78378378, 20.78378378, 20.78378378, 16.83409091,\n",
       "       28.00769231, 26.01538462, 28.00769231, 41.25714286, 16.83409091,\n",
       "       16.83409091, 26.01538462, 28.00769231, 20.78378378, 48.63636364,\n",
       "       28.00769231, 26.01538462, 20.78378378, 28.00769231, 48.63636364,\n",
       "       20.78378378, 20.78378378, 48.63636364, 28.00769231, 11.67222222,\n",
       "       28.00769231, 20.78378378, 28.00769231, 20.78378378, 20.78378378,\n",
       "       28.00769231, 26.01538462, 16.83409091, 20.78378378, 20.78378378,\n",
       "       16.83409091, 11.67222222, 28.00769231, 11.67222222, 28.00769231,\n",
       "       11.67222222, 16.83409091, 20.78378378, 11.67222222, 20.78378378,\n",
       "       20.78378378, 16.83409091, 20.78378378, 28.00769231, 20.78378378,\n",
       "       16.83409091, 20.78378378, 20.78378378, 28.00769231, 20.78378378,\n",
       "       20.78378378, 16.83409091, 20.78378378, 26.01538462, 16.83409091,\n",
       "       41.25714286, 28.00769231, 20.78378378, 16.83409091, 28.00769231,\n",
       "       28.00769231, 20.78378378, 11.67222222, 26.01538462, 16.83409091,\n",
       "       11.67222222, 11.67222222, 16.83409091])"
      ]
     },
     "execution_count": 11,
     "metadata": {},
     "output_type": "execute_result"
    }
   ],
   "source": [
    "Y_predict = regressor.predict(x_test)\n",
    "Y_predict"
   ]
  },
  {
   "cell_type": "code",
   "execution_count": 12,
   "metadata": {},
   "outputs": [
    {
     "name": "stdout",
     "output_type": "stream",
     "text": [
      "     Actuel  Predicted\n",
      "0      22.6  28.007692\n",
      "1      50.0  20.783784\n",
      "2      23.0  20.783784\n",
      "3       8.3  11.672222\n",
      "4      21.2  20.783784\n",
      "..      ...        ...\n",
      "248    32.2  26.015385\n",
      "249    13.5  16.834091\n",
      "250    17.9  11.672222\n",
      "251    13.3  11.672222\n",
      "252    11.7  16.834091\n",
      "\n",
      "[253 rows x 2 columns]\n"
     ]
    }
   ],
   "source": [
    "df=pd.DataFrame({'Actuel':Y_test.flatten(),'Predicted':Y_predict.flatten()})\n",
    "print(df)"
   ]
  },
  {
   "cell_type": "markdown",
   "metadata": {},
   "source": [
    "### Use the trained model to predict prices for the houses in the test set. Plot y-predicted (x-axis) vs y-actual on a scatter plot. Add a line to represent where perfect predictions would be."
   ]
  },
  {
   "cell_type": "code",
   "execution_count": 13,
   "metadata": {},
   "outputs": [
    {
     "data": {
      "text/plain": [
       "[<matplotlib.lines.Line2D at 0x1dcbf9141f0>]"
      ]
     },
     "execution_count": 13,
     "metadata": {},
     "output_type": "execute_result"
    },
    {
     "data": {
      "image/png": "[encoded data removed]",
      "text/plain": [
       "<Figure size 432x288 with 1 Axes>"
      ]
     },
     "metadata": {
      "needs_background": "light"
     },
     "output_type": "display_data"
    }
   ],
   "source": [
    "plt.scatter(Y_predict,Y_test,color='b')\n",
    "plt.plot(Y_test,Y_test,color='r',linewidth=5)"
   ]
  },
  {
   "cell_type": "markdown",
   "metadata": {},
   "source": [
    " ### Question 6: Visualize the Tree that has been fit to the training data using the plot_tree function"
   ]
  },
  {
   "cell_type": "code",
   "execution_count": 14,
   "metadata": {},
   "outputs": [
    {
     "data": {
      "image/png": "[encoded data removed]",
      "text/plain": [
       "<Figure size 1152x720 with 1 Axes>"
      ]
     },
     "metadata": {
      "needs_background": "light"
     },
     "output_type": "display_data"
    }
   ],
   "source": [
    "fig = plt.figure(figsize=(16,10))\n",
    "plot_tree(regressor, node_ids = True, filled=True)\n",
    "plt.show()"
   ]
  },
  {
   "cell_type": "markdown",
   "metadata": {},
   "source": [
    "### Question 7: Use Mean Squared Error (MSE) to calculate the test error"
   ]
  },
  {
   "cell_type": "code",
   "execution_count": 15,
   "metadata": {},
   "outputs": [
    {
     "data": {
      "text/plain": [
       "26.02323085009744"
      ]
     },
     "execution_count": 15,
     "metadata": {},
     "output_type": "execute_result"
    }
   ],
   "source": [
    "mean_squared_error(Y_test, Y_predict)"
   ]
  },
  {
   "cell_type": "markdown",
   "metadata": {},
   "source": [
    "# Ensemble MethodS: Bagging and Random Forests"
   ]
  },
  {
   "cell_type": "code",
   "execution_count": 16,
   "metadata": {},
   "outputs": [
    {
     "data": {
      "text/plain": [
       "RandomForestRegressor(max_features=13, random_state=0)"
      ]
     },
     "execution_count": 16,
     "metadata": {},
     "output_type": "execute_result"
    }
   ],
   "source": [
    "# Bagging: using all features\n",
    "new_regressor=RandomForestRegressor(max_features =13, random_state=0)\n",
    "new_regressor.fit(x_train,Y_train.ravel())"
   ]
  },
  {
   "cell_type": "markdown",
   "metadata": {},
   "source": [
    "### Question 8:"
   ]
  },
  {
   "cell_type": "code",
   "execution_count": 17,
   "metadata": {},
   "outputs": [
    {
     "data": {
      "text/plain": [
       "array([23.432, 24.176, 22.034,  9.98 , 20.721, 21.059, 21.07 , 19.86 ,\n",
       "       19.874, 18.68 ,  8.834, 11.578, 14.587,  9.38 , 49.032, 34.49 ,\n",
       "       20.991, 34.926, 27.275, 21.364, 23.493, 19.942, 19.908, 24.412,\n",
       "       21.175, 17.344, 19.304, 16.206, 41.417, 18.374, 14.773, 19.466,\n",
       "       20.977, 21.361, 22.906, 18.936,  8.587, 23.877, 14.747, 13.882,\n",
       "       23.028, 20.774, 21.98 , 14.678, 24.677, 22.216, 21.372, 16.921,\n",
       "       14.817, 24.702, 16.894, 19.688, 20.009, 42.852, 14.808, 20.066,\n",
       "       20.366, 19.021, 21.679, 19.558, 21.354, 21.37 , 31.801, 29.094,\n",
       "       20.503, 28.819, 16.63 , 17.697, 12.045, 21.67 , 20.2  , 22.008,\n",
       "       25.871, 30.674, 28.553,  9.881, 42.374, 21.919, 22.544, 19.348,\n",
       "       27.848, 19.242, 19.911, 41.851, 41.319, 24.21 , 22.789, 15.511,\n",
       "       27.096, 16.91 , 19.874, 13.712, 23.296, 29.508, 21.05 , 22.27 ,\n",
       "       11.051, 24.031, 15.731, 19.415, 23.625, 20.129, 27.454, 21.249,\n",
       "       27.171, 20.144,  9.014, 18.416, 21.567, 22.787, 34.816,  9.733,\n",
       "       17.591, 19.535, 16.975, 20.708, 10.096, 20.342, 11.018, 45.865,\n",
       "       30.639, 10.547, 19.903, 20.002, 21.461, 17.59 , 35.903, 19.379,\n",
       "       20.76 , 34.817, 13.476, 11.683, 14.529, 19.289, 12.659, 35.107,\n",
       "       20.575, 15.682, 27.264,  9.358, 10.825, 20.462, 31.226, 25.702,\n",
       "       24.199, 17.922, 34.814, 34.735, 12.929,  9.401, 28.556, 24.624,\n",
       "       13.893, 25.896, 17.763, 25.098, 17.685, 15.761, 20.662, 14.718,\n",
       "       10.669, 19.742, 33.468, 35.102, 30.074, 20.796, 22.543, 26.752,\n",
       "       24.382, 11.536, 29.894, 13.332, 20.346, 27.932, 20.159,  9.892,\n",
       "       19.488, 18.735, 23.662, 22.275, 15.861, 17.539, 19.489, 21.053,\n",
       "       17.806, 24.894, 26.271, 27.892, 41.528, 16.232, 13.457, 31.603,\n",
       "       29.859, 20.394, 46.555, 25.138, 25.224, 20.385, 24.404, 44.942,\n",
       "       22.926, 19.303, 42.44 , 34.703, 15.054, 26.618, 19.301, 24.376,\n",
       "       21.613, 20.108, 27.873, 27.389, 13.075, 20.69 , 20.631, 12.906,\n",
       "       14.866, 25.763, 14.273, 34.467, 10.38 , 17.883, 18.856, 15.489,\n",
       "       21.055, 20.827, 14.911, 21.039, 23.893, 20.078, 15.957, 23.028,\n",
       "       22.117, 30.824, 20.521, 21.125, 14.143, 21.03 , 32.859, 18.468,\n",
       "       40.704, 24.348, 21.799, 16.961, 31.64 , 26.437, 25.189, 15.208,\n",
       "       30.99 , 14.423,  9.343, 12.428, 15.649])"
      ]
     },
     "execution_count": 17,
     "metadata": {},
     "output_type": "execute_result"
    }
   ],
   "source": [
    "Y_new_predict = new_regressor.predict(x_test)\n",
    "Y_new_predict"
   ]
  },
  {
   "cell_type": "code",
   "execution_count": 18,
   "metadata": {},
   "outputs": [
    {
     "name": "stdout",
     "output_type": "stream",
     "text": [
      "     Actuel  Predicted\n",
      "0      22.6     23.432\n",
      "1      50.0     24.176\n",
      "2      23.0     22.034\n",
      "3       8.3      9.980\n",
      "4      21.2     20.721\n",
      "..      ...        ...\n",
      "248    32.2     30.990\n",
      "249    13.5     14.423\n",
      "250    17.9      9.343\n",
      "251    13.3     12.428\n",
      "252    11.7     15.649\n",
      "\n",
      "[253 rows x 2 columns]\n"
     ]
    }
   ],
   "source": [
    "df1=pd.DataFrame({'Actuel':Y_test.flatten(),'Predicted':Y_new_predict.flatten()})\n",
    "print(df1)"
   ]
  },
  {
   "cell_type": "code",
   "execution_count": 19,
   "metadata": {},
   "outputs": [
    {
     "data": {
      "text/plain": [
       "[<matplotlib.lines.Line2D at 0x1dcbfa46b80>]"
      ]
     },
     "execution_count": 19,
     "metadata": {},
     "output_type": "execute_result"
    },
    {
     "data": {
      "image/png": "[encoded data removed]",
      "text/plain": [
       "<Figure size 432x288 with 1 Axes>"
      ]
     },
     "metadata": {
      "needs_background": "light"
     },
     "output_type": "display_data"
    }
   ],
   "source": [
    "plt.scatter(Y_new_predict,Y_test,color='b')\n",
    "plt.plot(Y_test,Y_test,color='r',linewidth=5)"
   ]
  },
  {
   "cell_type": "markdown",
   "metadata": {},
   "source": [
    "### Question 9"
   ]
  },
  {
   "cell_type": "code",
   "execution_count": 20,
   "metadata": {},
   "outputs": [
    {
     "data": {
      "text/plain": [
       "16.108427276679844"
      ]
     },
     "execution_count": 20,
     "metadata": {},
     "output_type": "execute_result"
    }
   ],
   "source": [
    "mean_squared_error (Y_test,Y_new_predict)"
   ]
  },
  {
   "cell_type": "code",
   "execution_count": 21,
   "metadata": {},
   "outputs": [
    {
     "data": {
      "text/plain": [
       "RandomForestRegressor(max_features=6, random_state=0)"
      ]
     },
     "execution_count": 21,
     "metadata": {},
     "output_type": "execute_result"
    }
   ],
   "source": [
    "regr2 = RandomForestRegressor(max_features=6, random_state=0)\n",
    "regr2.fit(x_train, Y_train.ravel())"
   ]
  },
  {
   "cell_type": "code",
   "execution_count": 22,
   "metadata": {},
   "outputs": [
    {
     "data": {
      "text/plain": [
       "array([23.912, 22.482, 22.2  , 10.12 , 21.145, 21.038, 20.827, 19.929,\n",
       "       20.873, 18.875,  9.531, 12.811, 14.991,  8.879, 48.528, 34.609,\n",
       "       20.791, 36.443, 27.214, 20.957, 23.339, 19.924, 20.097, 24.764,\n",
       "       21.021, 17.279, 18.475, 16.464, 40.887, 18.987, 15.161, 18.701,\n",
       "       21.251, 21.203, 23.454, 18.498,  8.862, 21.226, 15.259, 14.485,\n",
       "       23.517, 20.978, 21.86 , 15.858, 23.656, 22.666, 20.652, 16.925,\n",
       "       16.168, 23.596, 16.862, 20.283, 20.75 , 39.962, 15.435, 20.398,\n",
       "       20.552, 18.615, 19.777, 19.576, 22.577, 21.279, 31.067, 30.492,\n",
       "       19.804, 28.664, 15.999, 18.705, 14.244, 21.861, 20.886, 22.552,\n",
       "       26.645, 30.586, 25.878,  9.664, 42.42 , 22.209, 23.702, 19.511,\n",
       "       27.198, 18.499, 18.222, 41.536, 40.666, 24.449, 24.09 , 16.859,\n",
       "       25.436, 16.948, 19.975, 13.271, 23.866, 29.976, 21.523, 22.676,\n",
       "       12.04 , 24.062, 16.145, 18.743, 23.726, 19.529, 27.425, 21.767,\n",
       "       26.101, 20.218,  9.156, 17.614, 21.658, 23.59 , 35.532, 11.789,\n",
       "       18.638, 19.06 , 17.11 , 21.28 , 10.315, 19.466, 10.552, 45.63 ,\n",
       "       30.509, 10.083, 19.513, 19.964, 21.33 , 18.26 , 35.408, 19.046,\n",
       "       20.351, 33.256, 13.634, 11.416, 14.85 , 19.71 , 12.795, 35.098,\n",
       "       21.343, 16.646, 27.093, 10.066, 10.886, 20.649, 31.86 , 25.495,\n",
       "       24.449, 17.843, 34.786, 34.023, 13.111,  8.935, 29.716, 25.834,\n",
       "       14.708, 25.966, 17.062, 26.85 , 18.441, 15.476, 20.354, 14.234,\n",
       "       10.592, 19.838, 33.184, 34.263, 31.004, 20.969, 22.673, 26.227,\n",
       "       24.639, 12.184, 29.869, 13.938, 19.89 , 28.655, 20.356, 10.326,\n",
       "       19.539, 18.775, 22.762, 22.326, 15.917, 15.37 , 19.509, 21.034,\n",
       "       18.05 , 25.256, 25.593, 28.091, 40.894, 16.678, 13.005, 31.352,\n",
       "       30.   , 19.987, 45.418, 25.357, 24.866, 20.055, 24.466, 43.969,\n",
       "       23.455, 18.896, 41.474, 35.544, 15.628, 25.987, 18.735, 24.212,\n",
       "       21.318, 19.886, 27.767, 27.062, 13.238, 21.174, 19.87 , 12.77 ,\n",
       "       15.01 , 24.739, 14.406, 34.484, 11.234, 20.464, 18.38 , 15.703,\n",
       "       21.303, 20.953, 14.324, 21.074, 24.14 , 19.833, 16.092, 23.176,\n",
       "       22.615, 29.376, 21.153, 20.948, 14.041, 20.973, 32.483, 19.161,\n",
       "       37.107, 24.536, 21.218, 16.917, 31.403, 26.999, 26.152, 15.399,\n",
       "       30.87 , 14.48 , 10.242, 12.834, 16.203])"
      ]
     },
     "execution_count": 22,
     "metadata": {},
     "output_type": "execute_result"
    }
   ],
   "source": [
    "y_new_pred1 = regr2.predict(x_test)\n",
    "y_new_pred1"
   ]
  },
  {
   "cell_type": "code",
   "execution_count": 23,
   "metadata": {},
   "outputs": [
    {
     "data": {
      "text/plain": [
       "16.0181136798419"
      ]
     },
     "execution_count": 23,
     "metadata": {},
     "output_type": "execute_result"
    }
   ],
   "source": [
    "mean_squared_error (Y_test,y_new_pred1)"
   ]
  },
  {
   "cell_type": "code",
   "execution_count": 24,
   "metadata": {},
   "outputs": [],
   "source": [
    "X.insert(13,'MEDV',y)"
   ]
  },
  {
   "cell_type": "code",
   "execution_count": null,
   "metadata": {},
   "outputs": [],
   "source": [
    "X.corr()"
   ]
  },
  {
   "cell_type": "code",
   "execution_count": 1,
   "metadata": {},
   "outputs": [],
   "source": [
    "# cols=data['feature_names']\n",
    "# y = 'MEDV'\n",
    "# fig = plt.figure(figsize=(16,10))\n",
    "# for i in range(1,13):\n",
    "#     x=cols[i-1]\n",
    "#     plt.subplot(7,2,i)\n",
    "#     plt.plot(x,y)  \n",
    "# plt.show()"
   ]
  },
  {
   "cell_type": "code",
   "execution_count": null,
   "metadata": {},
   "outputs": [],
   "source": []
  },
  {
   "cell_type": "code",
   "execution_count": 104,
   "metadata": {},
   "outputs": [],
   "source": []
  },
  {
   "cell_type": "code",
   "execution_count": null,
   "metadata": {},
   "outputs": [],
   "source": []
  },
  {
   "cell_type": "code",
   "execution_count": null,
   "metadata": {},
   "outputs": [],
   "source": []
  }
 ],
 "metadata": {
  "kernelspec": {
   "display_name": "Python 3",
   "language": "python",
   "name": "python3"
  },
  "language_info": {
   "codemirror_mode": {
    "name": "ipython",
    "version": 3
   },
   "file_extension": ".py",
   "mimetype": "text/x-python",
   "name": "python",
   "nbconvert_exporter": "python",
   "pygments_lexer": "ipython3",
   "version": "3.8.8"
  }
 },
 "nbformat": 4,
 "nbformat_minor": 2
}
